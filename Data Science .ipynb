{
 "cells": [
  {
   "cell_type": "markdown",
   "id": "b91ee79e",
   "metadata": {},
   "source": [
    "# Data Science IBM Professional Certificate NoteBook"
   ]
  },
  {
   "cell_type": "markdown",
   "id": "ec18cba7",
   "metadata": {},
   "source": [
    "**It is a notebook in which basic details of data science are explained.**"
   ]
  },
  {
   "cell_type": "markdown",
   "id": "05f735a8",
   "metadata": {},
   "source": [
    "Most common used data science language are:   \n",
    "- **R**\n",
    "- **Python**\n",
    "- **Julia**\n",
    "- **Scala**"
   ]
  },
  {
   "cell_type": "markdown",
   "id": "67a8b8c9",
   "metadata": {},
   "source": [
    "Data Science Libraries\n",
    "- **NumPy**\n",
    "- **Pandas**\n",
    "- **Matplotlib**\n",
    "- **Seaborn**\n",
    "- **Scikit-learn**"
   ]
  },
  {
   "cell_type": "markdown",
   "id": "e22ce1d3",
   "metadata": {},
   "source": [
    "Data Science Tools Table \n",
    "| **Tool**            | Description                     |\n",
    "|-----------------|---------------------------------|\n",
    "| Jupyter Notebook| Interactive Data Science        |\n",
    "| VS Code         | Integrated Development Environment|\n",
    "| Git             | Version Control System          |\n"
   ]
  },
  {
   "cell_type": "markdown",
   "id": "93e0f4ac",
   "metadata": {},
   "source": [
    "# Arithmetic Expression Examples\n",
    "\n",
    "In this notebook, we will cover some examples of arithmetic expressions in Python. \n",
    "\n",
    "## Addition\n",
    "\n",
    "Addition is the simplest arithmetic operation, which combines two numbers to produce a sum. Here are some examples:\n",
    "\n",
    "2 + 3  # returns 5\n",
    "5 + 10 # returns 15\n",
    "\n",
    "\n",
    "## Subtraction\n",
    " \n",
    "5 - 3   # returns 2\n",
    "10 - 5  # returns 5\n",
    "\n",
    "\n",
    "## Multiplication\n",
    "\n",
    "5 * 3   # returns 15\n",
    "10 * 5  # returns 50\n",
    "\n",
    "\n",
    "## Division\n",
    "\n",
    "5 / 3   # returns 1.6666666666666667\n",
    "10 / 5  # returns 2"
   ]
  },
  {
   "cell_type": "code",
   "execution_count": 1,
   "id": "40f7d899",
   "metadata": {},
   "outputs": [
    {
     "name": "stdout",
     "output_type": "stream",
     "text": [
      "Multiplication result: 15, Addition result: 8\n"
     ]
    }
   ],
   "source": [
    "result_multiply = 5 * 3\n",
    "result_add = 5 + 3\n",
    "print(f\"Multiplication result: {result_multiply}, Addition result: {result_add}\")\n"
   ]
  },
  {
   "cell_type": "code",
   "execution_count": 2,
   "id": "5c532403",
   "metadata": {},
   "outputs": [
    {
     "name": "stdout",
     "output_type": "stream",
     "text": [
      "120 minutes is equal to 2.0 hours\n"
     ]
    }
   ],
   "source": [
    "def convert_minutes_to_hours(minutes):\n",
    "    hours = minutes / 60\n",
    "    return hours\n",
    "\n",
    "# Example usage\n",
    "minutes = 120\n",
    "hours_result = convert_minutes_to_hours(minutes)\n",
    "print(f\"{minutes} minutes is equal to {hours_result} hours\")"
   ]
  },
  {
   "cell_type": "markdown",
   "id": "39a288fa",
   "metadata": {},
   "source": [
    "**The objectives are :**\n",
    "1. Learn about data science languages.\n",
    "2. Understand popular data science libraries.\n",
    "3. Explore various data science tools."
   ]
  },
  {
   "cell_type": "markdown",
   "id": "04409961",
   "metadata": {},
   "source": [
    "Author = ***\"Abdullah Imran Mir\"***"
   ]
  },
  {
   "cell_type": "code",
   "execution_count": null,
   "id": "d5b34c81",
   "metadata": {},
   "outputs": [],
   "source": []
  },
  {
   "cell_type": "code",
   "execution_count": null,
   "id": "c745b992",
   "metadata": {},
   "outputs": [],
   "source": []
  },
  {
   "cell_type": "code",
   "execution_count": null,
   "id": "c5185d45",
   "metadata": {},
   "outputs": [],
   "source": []
  },
  {
   "cell_type": "code",
   "execution_count": null,
   "id": "d4bebed7",
   "metadata": {},
   "outputs": [],
   "source": []
  },
  {
   "cell_type": "code",
   "execution_count": null,
   "id": "e7599f26",
   "metadata": {},
   "outputs": [],
   "source": []
  },
  {
   "cell_type": "code",
   "execution_count": null,
   "id": "0aecad14",
   "metadata": {},
   "outputs": [],
   "source": []
  },
  {
   "cell_type": "code",
   "execution_count": null,
   "id": "b45dc069",
   "metadata": {},
   "outputs": [],
   "source": []
  },
  {
   "cell_type": "code",
   "execution_count": null,
   "id": "f4b037ae",
   "metadata": {},
   "outputs": [],
   "source": []
  },
  {
   "cell_type": "code",
   "execution_count": null,
   "id": "19f28134",
   "metadata": {},
   "outputs": [],
   "source": []
  }
 ],
 "metadata": {
  "kernelspec": {
   "display_name": "Python 3 (ipykernel)",
   "language": "python",
   "name": "python3"
  },
  "language_info": {
   "codemirror_mode": {
    "name": "ipython",
    "version": 3
   },
   "file_extension": ".py",
   "mimetype": "text/x-python",
   "name": "python",
   "nbconvert_exporter": "python",
   "pygments_lexer": "ipython3",
   "version": "3.11.4"
  }
 },
 "nbformat": 4,
 "nbformat_minor": 5
}
